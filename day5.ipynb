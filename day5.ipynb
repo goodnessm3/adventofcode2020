{
 "cells": [
  {
   "cell_type": "code",
   "execution_count": 1,
   "metadata": {},
   "outputs": [],
   "source": [
    "def part_rec(mn, mx, code):\n",
    "    typ = code[0]\n",
    "    if mx - mn == 1:\n",
    "        if typ == \"B\":\n",
    "            return mx\n",
    "        else:\n",
    "            return mn\n",
    "    mid = mn + (mx+1 - mn)//2\n",
    "    if typ == \"B\":\n",
    "        return part_rec(mid, mx, code[1:])\n",
    "    elif typ == \"F\":\n",
    "        return part_rec(mn, mid-1, code[1:])\n",
    "\n",
    "    \n",
    "def get_coords(code):\n",
    "    x = code[:7]\n",
    "    y = code[7:]\n",
    "    xc = part_rec(0,127,x)\n",
    "    y = y.replace(\"R\",\"B\")\n",
    "    y = y.replace(\"L\",\"F\")\n",
    "    yc = part_rec(0,7,y)\n",
    "    return xc, yc\n",
    "\n",
    "\n",
    "def get_id(code):\n",
    "    r, c = get_coords(code)\n",
    "    return r*8 + c "
   ]
  },
  {
   "cell_type": "code",
   "execution_count": 2,
   "metadata": {},
   "outputs": [
    {
     "data": {
      "text/plain": [
       "820"
      ]
     },
     "execution_count": 2,
     "metadata": {},
     "output_type": "execute_result"
    }
   ],
   "source": [
    "get_id(\"BBFFBBFRLL\")"
   ]
  },
  {
   "cell_type": "code",
   "execution_count": 4,
   "metadata": {},
   "outputs": [],
   "source": [
    "ids = []\n",
    "with open(\"input5.txt\",\"r\") as f:\n",
    "    for line in f.readlines():\n",
    "        ids.append(get_id(line.rstrip(\"\\n\")))"
   ]
  },
  {
   "cell_type": "code",
   "execution_count": 6,
   "metadata": {},
   "outputs": [],
   "source": [
    "ids.sort()"
   ]
  },
  {
   "cell_type": "code",
   "execution_count": 8,
   "metadata": {},
   "outputs": [
    {
     "name": "stdout",
     "output_type": "stream",
     "text": [
      "710\n"
     ]
    }
   ],
   "source": [
    "for x in range(len(ids)-1):\n",
    "    if not int(ids[x+1]) - int(ids[x]) == 1:\n",
    "        print(ids[x])"
   ]
  },
  {
   "cell_type": "code",
   "execution_count": 9,
   "metadata": {},
   "outputs": [
    {
     "name": "stdout",
     "output_type": "stream",
     "text": [
      "BFBBFFFRRL\n",
      "\n",
      "BFBBFFBLLL\n",
      "\n"
     ]
    }
   ],
   "source": [
    "ids = []\n",
    "with open(\"input5.txt\",\"r\") as f:\n",
    "    for line in f.readlines():\n",
    "        theid = get_id(line.rstrip(\"\\n\"))\n",
    "        if theid == 710 or theid == 712:\n",
    "            print(line)"
   ]
  },
  {
   "cell_type": "code",
   "execution_count": null,
   "metadata": {},
   "outputs": [],
   "source": []
  }
 ],
 "metadata": {
  "kernelspec": {
   "display_name": "Python 3",
   "language": "python",
   "name": "python3"
  },
  "language_info": {
   "codemirror_mode": {
    "name": "ipython",
    "version": 3
   },
   "file_extension": ".py",
   "mimetype": "text/x-python",
   "name": "python",
   "nbconvert_exporter": "python",
   "pygments_lexer": "ipython3",
   "version": "3.8.1"
  }
 },
 "nbformat": 4,
 "nbformat_minor": 4
}
