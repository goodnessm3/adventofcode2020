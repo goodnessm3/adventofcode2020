{
 "cells": [
  {
   "cell_type": "code",
   "execution_count": 1,
   "metadata": {},
   "outputs": [],
   "source": [
    "def add_check(num, ls):\n",
    "    \n",
    "    for x in ls:\n",
    "        q = num - x\n",
    "        if q in ls and not q == x:\n",
    "            return True\n",
    "    return False\n"
   ]
  },
  {
   "cell_type": "code",
   "execution_count": 2,
   "metadata": {},
   "outputs": [],
   "source": [
    "lines = []\n",
    "with open(\"input9.txt\", \"r\") as f:\n",
    "    for x in f.readlines():\n",
    "        lines.append(int(x.rstrip(\"\\n\")))"
   ]
  },
  {
   "cell_type": "code",
   "execution_count": 17,
   "metadata": {},
   "outputs": [
    {
     "name": "stdout",
     "output_type": "stream",
     "text": [
      "144381670\n"
     ]
    }
   ],
   "source": [
    "pos = 25\n",
    "while 1:\n",
    "    #print(f\"check {lines[pos]}\")\n",
    "    #print(lines[pos-5:pos])\n",
    "    if not add_check(lines[pos], lines[pos-25:pos]):\n",
    "        print(lines[pos])\n",
    "        break     \n",
    "    pos += 1"
   ]
  },
  {
   "cell_type": "code",
   "execution_count": 31,
   "metadata": {},
   "outputs": [
    {
     "name": "stdout",
     "output_type": "stream",
     "text": [
      "20532569\n"
     ]
    }
   ],
   "source": [
    "start = 0\n",
    "end = 0\n",
    "total = 0\n",
    "target = 144381670\n",
    "while not total == target:\n",
    "    total += lines[end]\n",
    "    end += 1\n",
    "    while total > target:\n",
    "        total -= lines[start]\n",
    "        start += 1\n",
    "ls = lines[start:end]\n",
    "print(min(ls) + max(ls))"
   ]
  },
  {
   "cell_type": "code",
   "execution_count": null,
   "metadata": {},
   "outputs": [],
   "source": []
  }
 ],
 "metadata": {
  "kernelspec": {
   "display_name": "Python 3",
   "language": "python",
   "name": "python3"
  },
  "language_info": {
   "codemirror_mode": {
    "name": "ipython",
    "version": 3
   },
   "file_extension": ".py",
   "mimetype": "text/x-python",
   "name": "python",
   "nbconvert_exporter": "python",
   "pygments_lexer": "ipython3",
   "version": "3.8.1"
  }
 },
 "nbformat": 4,
 "nbformat_minor": 4
}
