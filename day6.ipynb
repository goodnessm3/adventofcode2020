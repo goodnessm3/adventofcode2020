{
 "cells": [
  {
   "cell_type": "code",
   "execution_count": 17,
   "metadata": {},
   "outputs": [
    {
     "name": "stdout",
     "output_type": "stream",
     "text": [
      "6273\n"
     ]
    }
   ],
   "source": [
    "total = 0\n",
    "with open(\"input6.txt\", \"r\") as f:\n",
    "    for x in f.read().split(\"\\n\\n\"):\n",
    "        total += len(set(x) - {\"\\n\"})\n",
    "print(total)"
   ]
  },
  {
   "cell_type": "code",
   "execution_count": 22,
   "metadata": {},
   "outputs": [
    {
     "name": "stdout",
     "output_type": "stream",
     "text": [
      "3254\n"
     ]
    }
   ],
   "source": [
    "total = 0\n",
    "with open(\"input6.txt\", \"r\") as f:\n",
    "    for x in f.read().split(\"\\n\\n\"):\n",
    "        sets = []\n",
    "        for y in x.split(\"\\n\"):\n",
    "            s = set(y)\n",
    "            sets.append(s)\n",
    "        m = sets[0]\n",
    "        for x in sets[1:]:\n",
    "            m = m.intersection(x)\n",
    "        total += len(m)\n",
    "print(total)"
   ]
  },
  {
   "cell_type": "code",
   "execution_count": null,
   "metadata": {},
   "outputs": [],
   "source": []
  }
 ],
 "metadata": {
  "kernelspec": {
   "display_name": "Python 3",
   "language": "python",
   "name": "python3"
  },
  "language_info": {
   "codemirror_mode": {
    "name": "ipython",
    "version": 3
   },
   "file_extension": ".py",
   "mimetype": "text/x-python",
   "name": "python",
   "nbconvert_exporter": "python",
   "pygments_lexer": "ipython3",
   "version": "3.8.1"
  }
 },
 "nbformat": 4,
 "nbformat_minor": 4
}
