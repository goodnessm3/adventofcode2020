{
 "cells": [
  {
   "cell_type": "code",
   "execution_count": 11,
   "metadata": {},
   "outputs": [],
   "source": [
    "lines = []\n",
    "with open(\"input8.txt\", \"r\") as f:\n",
    "    for line in f.readlines():\n",
    "        lines.append(parse(line))"
   ]
  },
  {
   "cell_type": "code",
   "execution_count": 12,
   "metadata": {},
   "outputs": [],
   "source": [
    "def parse(line):\n",
    "    \n",
    "    a, b = line.split(\" \")\n",
    "    b = int(b.rstrip(\"\\n\"))\n",
    "    return a, b"
   ]
  },
  {
   "cell_type": "code",
   "execution_count": 15,
   "metadata": {},
   "outputs": [],
   "source": [
    "ptr = 0\n",
    "acc = 0\n",
    "visited = []\n",
    "while not ptr in visited:\n",
    "    a, b = lines[ptr]\n",
    "    if a == \"acc\":\n",
    "        acc += b\n",
    "        nex = 1\n",
    "    elif a == \"nop\":\n",
    "        nex = 1\n",
    "    elif a == \"jmp\":\n",
    "        nex = b\n",
    "    visited.append(ptr)\n",
    "    ptr += nex"
   ]
  },
  {
   "cell_type": "code",
   "execution_count": 16,
   "metadata": {},
   "outputs": [
    {
     "data": {
      "text/plain": [
       "2058"
      ]
     },
     "execution_count": 16,
     "metadata": {},
     "output_type": "execute_result"
    }
   ],
   "source": [
    "acc"
   ]
  },
  {
   "cell_type": "code",
   "execution_count": 30,
   "metadata": {},
   "outputs": [],
   "source": [
    "#part 2\n",
    "def test(ls):\n",
    "    ptr = 0\n",
    "    acc = 0\n",
    "    visited = []\n",
    "    maxlen = len(ls)\n",
    "    while not ptr in visited:\n",
    "        a, b = ls[ptr]\n",
    "        if a == \"acc\":\n",
    "            acc += b\n",
    "            nex = 1\n",
    "        elif a == \"nop\":\n",
    "            nex = 1\n",
    "        elif a == \"jmp\":\n",
    "            nex = b\n",
    "        visited.append(ptr)\n",
    "        ptr += nex\n",
    "        if ptr >= maxlen:\n",
    "            return acc\n",
    "    return None"
   ]
  },
  {
   "cell_type": "code",
   "execution_count": null,
   "metadata": {},
   "outputs": [],
   "source": []
  },
  {
   "cell_type": "code",
   "execution_count": 26,
   "metadata": {},
   "outputs": [],
   "source": [
    "def program_generator():\n",
    "    \n",
    "    pos = 0\n",
    "    \n",
    "    while pos < len(lines):       \n",
    "        a, b = lines[pos]\n",
    "        if a == \"acc\":\n",
    "            pos += 1\n",
    "            continue  # don't change acc instructions\n",
    "        if a == \"jmp\":\n",
    "            a = \"nop\"\n",
    "        elif a == \"nop\":\n",
    "            a = \"jmp\"\n",
    "        new = lines[:]\n",
    "        new[pos] = (a, b)\n",
    "        yield new\n",
    "        pos += 1"
   ]
  },
  {
   "cell_type": "code",
   "execution_count": 31,
   "metadata": {},
   "outputs": [
    {
     "name": "stdout",
     "output_type": "stream",
     "text": [
      "1000\n"
     ]
    }
   ],
   "source": [
    "for x in program_generator():\n",
    "    if q := test(x):\n",
    "        print(q)\n",
    "        "
   ]
  }
 ],
 "metadata": {
  "kernelspec": {
   "display_name": "Python 3",
   "language": "python",
   "name": "python3"
  },
  "language_info": {
   "codemirror_mode": {
    "name": "ipython",
    "version": 3
   },
   "file_extension": ".py",
   "mimetype": "text/x-python",
   "name": "python",
   "nbconvert_exporter": "python",
   "pygments_lexer": "ipython3",
   "version": "3.8.1"
  }
 },
 "nbformat": 4,
 "nbformat_minor": 4
}
