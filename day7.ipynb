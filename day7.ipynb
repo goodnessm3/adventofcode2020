{
 "cells": [
  {
   "cell_type": "code",
   "execution_count": 16,
   "metadata": {},
   "outputs": [],
   "source": [
    "def parse_line(ln):\n",
    "    \n",
    "    out = {}\n",
    "    ln = ln.rstrip(\".\\n\")\n",
    "    a, b = ln.split(\" contain \")\n",
    "    a = \" \".join(a.split(\" \")[:2])\n",
    "    head = \"\".join(a.split(\" \")[:2])\n",
    "    b = b.split(\" \")\n",
    "    accu = []\n",
    "    for x in b:\n",
    "        accu.append(x)\n",
    "        if len(accu) == 4:  # \"no other\" will never reach len 4 and so not be counted\n",
    "            num, col = accu[0], accu[1] + \" \" + accu[2]\n",
    "            accu = []\n",
    "            out[col] = int(num)\n",
    "    return a, out"
   ]
  },
  {
   "cell_type": "code",
   "execution_count": 9,
   "metadata": {},
   "outputs": [
    {
     "name": "stdout",
     "output_type": "stream",
     "text": [
      "{'mirrored lavender': 5, 'dull bronze': 5, 'pale salmon': 4, 'wavy crimson': 5}\n"
     ]
    }
   ],
   "source": [
    "parse_line(\"dark yellow bags contain 5 mirrored lavender bags, 5 dull bronze bags, 4 pale salmon bags, 5 wavy crimson bags.\")"
   ]
  },
  {
   "cell_type": "code",
   "execution_count": 136,
   "metadata": {},
   "outputs": [],
   "source": [
    "from collections import defaultdict\n",
    "\n",
    "master = defaultdict(list)\n",
    "with open(\"input7t.txt\", \"r\") as f:\n",
    "    for line in f.readlines():\n",
    "        line = line.rstrip(\"\\n\")\n",
    "        k, v = parse_line(line)\n",
    "        for q in v.keys():\n",
    "            master[k].append(q)"
   ]
  },
  {
   "cell_type": "code",
   "execution_count": 50,
   "metadata": {},
   "outputs": [],
   "source": [
    "total = 0\n",
    "\n",
    "for k in master.keys():\n",
    "    ls = master[k].copy()\n",
    "    while True:\n",
    "        \n",
    "        if len(ls) == 0:\n",
    "            break\n",
    "        g = ls.pop()\n",
    "        b = master[g]\n",
    "        if \"shiny gold\" in b:\n",
    "            total += 1\n",
    "            break\n",
    "        else:\n",
    "            ls.extend(b.copy())\n",
    "            \n",
    "        \n",
    "    "
   ]
  },
  {
   "cell_type": "code",
   "execution_count": 57,
   "metadata": {},
   "outputs": [
    {
     "name": "stdout",
     "output_type": "stream",
     "text": [
      "335\n"
     ]
    }
   ],
   "source": [
    "total = 0\n",
    "\n",
    "for k in master.keys():\n",
    "    ls = master[k][:]\n",
    "    while True:\n",
    "        if \"shiny gold\" in ls:\n",
    "            total += 1\n",
    "            break\n",
    "        if len(ls) == 0:\n",
    "            break\n",
    "        g = ls.pop()\n",
    "        b = master[g]\n",
    "        ls.extend(b)\n",
    "print(total)"
   ]
  },
  {
   "cell_type": "code",
   "execution_count": 160,
   "metadata": {},
   "outputs": [],
   "source": [
    "from collections import defaultdict\n",
    "\n",
    "master2 = defaultdict(dict)\n",
    "with open(\"input7.txt\", \"r\") as f:\n",
    "    for line in f.readlines():\n",
    "        line = line.rstrip(\"\\n\")\n",
    "        k, v = parse_line(line)\n",
    "        for q in v.keys():\n",
    "            master2[k] = v"
   ]
  },
  {
   "cell_type": "code",
   "execution_count": 165,
   "metadata": {},
   "outputs": [],
   "source": [
    "def count(k):\n",
    "    \n",
    "    dc = master2[k]\n",
    "    out = []\n",
    "    for k,v in dc.items():\n",
    "        out.extend([k] * v)\n",
    "    return out \n",
    "\n",
    "def get_all(k):\n",
    "       \n",
    "    ls = count(k)\n",
    "    ls2 = []\n",
    "    total = 0\n",
    "    \n",
    "    while True:\n",
    "        total += len(ls)\n",
    "        if ls == []:\n",
    "            return total\n",
    "        for x in ls:\n",
    "            q = count(x)\n",
    "            ls2.extend(q)        \n",
    "        ls = ls2\n",
    "        ls2 = []"
   ]
  },
  {
   "cell_type": "code",
   "execution_count": 168,
   "metadata": {},
   "outputs": [
    {
     "data": {
      "text/plain": [
       "2431"
      ]
     },
     "execution_count": 168,
     "metadata": {},
     "output_type": "execute_result"
    }
   ],
   "source": [
    "get_all('shiny gold')"
   ]
  }
 ],
 "metadata": {
  "kernelspec": {
   "display_name": "Python 3",
   "language": "python",
   "name": "python3"
  },
  "language_info": {
   "codemirror_mode": {
    "name": "ipython",
    "version": 3
   },
   "file_extension": ".py",
   "mimetype": "text/x-python",
   "name": "python",
   "nbconvert_exporter": "python",
   "pygments_lexer": "ipython3",
   "version": "3.8.1"
  }
 },
 "nbformat": 4,
 "nbformat_minor": 4
}
